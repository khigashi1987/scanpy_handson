{
 "cells": [
  {
   "cell_type": "markdown",
   "metadata": {
    "colab_type": "text",
    "id": "369zExuTx_6g"
   },
   "source": [
    "scRNA-seqデータのPythonによる解析を通して、scRNA-seq解析プラットフォームの中で起きている計算への理解を深める。  \n",
    "また、以下で紹介する手法は、シングルセルに限らず様々な生物学実験で生成される「テーブル形式」のデータに適用できる。  \n",
    "自分のフィールドで扱うテーブルに適用した場合にどんな結果や解釈が得られるか、想像しながら実行することを勧める。"
   ]
  },
  {
   "cell_type": "code",
   "execution_count": null,
   "metadata": {
    "colab": {
     "base_uri": "https://localhost:8080/",
     "height": 802
    },
    "colab_type": "code",
    "id": "gjjZ3KNDyDjd",
    "outputId": "aaaf2450-5767-44e1-ff73-1a4eef17f9c7",
    "tags": []
   },
   "outputs": [],
   "source": [
    "!pip install scanpy umap-learn anndata numpy scipy sklearn pandas scrublet seaborn python-igraph leidenalg"
   ]
  },
  {
   "cell_type": "markdown",
   "metadata": {
    "colab_type": "text",
    "id": "konUvxFoyPC3"
   },
   "source": [
    "必要なライブラリのインポート、および、ちょっとした設定。"
   ]
  },
  {
   "cell_type": "code",
   "execution_count": null,
   "metadata": {
    "colab": {
     "base_uri": "https://localhost:8080/",
     "height": 105
    },
    "colab_type": "code",
    "id": "TiqLggKsx6jY",
    "outputId": "fccc8eb8-dac6-48b7-f1c4-edf836bcbca0"
   },
   "outputs": [],
   "source": [
    "import os\n",
    "import scanpy as sc\n",
    "import anndata as ann\n",
    "import numpy as np\n",
    "import scipy as sp\n",
    "import scrublet as scr\n",
    "import pandas as pd\n",
    "import matplotlib.pyplot as plt\n",
    "from matplotlib import rcParams\n",
    "from matplotlib import colors\n",
    "import seaborn as sns\n",
    "\n",
    "plt.rcParams['figure.figsize']=(8,8)\n",
    "sc.settings.verbosity = 3\n",
    "sc.logging.print_versions()"
   ]
  },
  {
   "cell_type": "markdown",
   "metadata": {
    "colab_type": "text",
    "id": "T0LMHYK5x6jf"
   },
   "source": [
    "# データの読み込みと前処理"
   ]
  },
  {
   "cell_type": "markdown",
   "metadata": {},
   "source": [
    "## データの読み込み"
   ]
  },
  {
   "cell_type": "markdown",
   "metadata": {},
   "source": [
    "Cell Ranger 3.1.0解析済みのデータは10x Genomicsの [ここのデータ](https://support.10xgenomics.com/single-cell-gene-expression/datasets/3.1.0/5k_pbmc_protein_v3) からダウンロード。\n",
    "\n",
    "5k Peripheral blood mononuclear cells (PBMCs) from a healthy donor with cell surface proteins (v3 chemistry) \n",
    "\n",
    "5,247 cells detected\n",
    "\n",
    "以下のURLからダウンロードし、解凍する。"
   ]
  },
  {
   "cell_type": "code",
   "execution_count": null,
   "metadata": {
    "tags": []
   },
   "outputs": [],
   "source": [
    "%%bash\n",
    "wget http://cf.10xgenomics.com/samples/cell-exp/3.1.0/5k_pbmc_protein_v3/5k_pbmc_protein_v3_filtered_feature_bc_matrix.tar.gz -O 5k_pbmc_protein_v3_filtered_feature_bc_matrix.tar.gz\n",
    "tar -xzvf 5k_pbmc_protein_v3_filtered_feature_bc_matrix.tar.gz"
   ]
  },
  {
   "cell_type": "markdown",
   "metadata": {
    "colab_type": "text",
    "id": "3RQRT9Ycx6j3"
   },
   "source": [
    "Scanpyの特徴は、データフレームを拡張した ***anndata*** と呼ばれる オブジェクトを使う点にある。anndataを使うと、ひとつのオブジェクト に遺伝子発現量のデータ、サンプルや細胞のアノテーション、遺伝子の 情報などをまとめて格納できる。\n",
    "anndataを使うことで、実験の情報が詰まったひとつのオブジェクトに対して処理を次々に実行し、 さらに処理結果をそこに蓄積していくことができる。"
   ]
  },
  {
   "cell_type": "markdown",
   "metadata": {},
   "source": [
    "* anndataの構造。詳細は https://anndata.readthedocs.io/en/latest/\n",
    "<img src=\"https://anndata.readthedocs.io/en/latest/_images/anndata_schema.svg\" alt=\"anndata_object\" width=\"600\"/>"
   ]
  },
  {
   "cell_type": "markdown",
   "metadata": {},
   "source": [
    "Scanpyでは、10x Genomicsのデータは、結果のディレクトリを指定することでそのままロードが可能な関数が用意されている。\n",
    "\n",
    "ディレクトリには、3つのファイルが書き出されている。\n",
    "\n",
    "ひとつは、個別の細胞を識別するバーコードが記述された```barcodes.tsv```という名前のテキストファイルである。\n",
    "各行ごとにひとつのバーコードが記述されている。\n",
    "\n",
    "ふたつめは、計測された遺伝子が記述された```genes.tsv```という名前のタブ区切りテキストファイルである。\n",
    "このファイルは左側の列に遺伝子のENSEMBL Gene ID、右側の列の遺伝子のシンボルが記述されている。\n",
    "\n",
    "最後に```matrix.mtx```というテキストファイルが、各細胞（バーコード）について各遺伝子の発現がいくつ観測されたのかカウント情報をまとめたファイルである。\n",
    "このファイルはMatrix Market Exchange Formatsという形式で記述されており、疎行列（含まれる値の多くがゼロであるような行列）を比較的コンパクトに記述するための形式となっている。\n",
    "\n",
    "Scanpyの10xデータ用読み込み関数を使うと、これらを同時に読み込んで、適切に構造化されたオブジェクトができあがる。"
   ]
  },
  {
   "cell_type": "code",
   "execution_count": null,
   "metadata": {
    "colab": {
     "base_uri": "https://localhost:8080/",
     "height": 34
    },
    "colab_type": "code",
    "id": "5DJaNTUjx6j8",
    "outputId": "b7df0e9d-4d4a-4c26-ccf0-518bf3962e46"
   },
   "outputs": [],
   "source": [
    "adata = sc.read_10x_mtx(path=\"./filtered_feature_bc_matrix/\")"
   ]
  },
  {
   "cell_type": "markdown",
   "metadata": {
    "colab_type": "text",
    "id": "cBImT7Rgx6j-"
   },
   "source": [
    "データの構造を見てみる。\n",
    "\n",
    "以下のように、5,247細胞、33,538遺伝子の情報を記録したテーブルとなっている。"
   ]
  },
  {
   "cell_type": "code",
   "execution_count": null,
   "metadata": {
    "colab": {
     "base_uri": "https://localhost:8080/",
     "height": 34
    },
    "colab_type": "code",
    "id": "_iz0jmZ5x6j-",
    "outputId": "71abab6a-2df2-470a-b32c-23fb6d807d38"
   },
   "outputs": [],
   "source": [
    "adata.shape"
   ]
  },
  {
   "cell_type": "markdown",
   "metadata": {},
   "source": [
    "カウントテーブルには、以下のように ***X*** でアクセスできる。疎行列として格納されている。"
   ]
  },
  {
   "cell_type": "code",
   "execution_count": null,
   "metadata": {},
   "outputs": [],
   "source": [
    "adata.X"
   ]
  },
  {
   "cell_type": "markdown",
   "metadata": {},
   "source": [
    "観測値（細胞）に関するデータは、 ***obs*** でアクセスする。 observation の略。現在は細胞ひとつひとつのバーコード配列のデータだけが紐づいているが、ここに細胞に関するデータは追加していくことができる。"
   ]
  },
  {
   "cell_type": "code",
   "execution_count": null,
   "metadata": {},
   "outputs": [],
   "source": [
    "adata.obs"
   ]
  },
  {
   "cell_type": "markdown",
   "metadata": {},
   "source": [
    "変数（遺伝子）に関するデータは、 ***var*** でアクセスする。 variable の略。現在は、遺伝子のシンボル（名前）と、Ensembl Gene IDなどが登録されている。"
   ]
  },
  {
   "cell_type": "code",
   "execution_count": null,
   "metadata": {},
   "outputs": [],
   "source": [
    "adata.var"
   ]
  },
  {
   "cell_type": "markdown",
   "metadata": {},
   "source": [
    "## データのクオリティコントロール（フィルタリング）"
   ]
  },
  {
   "cell_type": "markdown",
   "metadata": {},
   "source": [
    "参考：[Seuratのチュートリアル](https://satijalab.org/seurat/v3.1/pbmc3k_tutorial.html)    \n",
    "\n",
    "クオリティコントロールは基本的に、以下の二段階で行う。\n",
    "1. 細胞のフィルタリング（クオリティがダメな細胞を除去）\n",
    "2. 遺伝子のフィルタリング（あまり価値のある情報を持たない遺伝子などを除去）\n",
    "\n",
    "\n",
    "まずは細胞のフィルタリングから。\n",
    "\n",
    "単純な方針として、あまりリードがアサインされなかったスカスカな細胞や、ミトコンドリア遺伝子の発現割合が高すぎて状態が怪しい細胞を捨てる。\n",
    "\n",
    "細胞ごとのトータルのカウント、検出遺伝子数、ミトコンドリア遺伝子の発現量割合などは、通常のNumpyの場合と同様に計算できる。基本的に```numpy.ndarray```ではなく```numpy.matrix```クラスで情報が格納されているので、```numpy.matrix.A1```関数を使ってデータを変換する必要がある点が若干異なる。\n",
    "\n",
    "※ヒトの場合、ミトコンドリアにコードされている遺伝子は名前が \"MT-\" からはじまるので、抽出も簡単。"
   ]
  },
  {
   "cell_type": "code",
   "execution_count": null,
   "metadata": {},
   "outputs": [],
   "source": [
    "import numpy as np\n",
    "# numpy.matrix.A1関数で疎行列の足し算結果をnumpy.ndarrayオブジェクトに変換する\n",
    "\n",
    "# 細胞ごとのカウント。発現量テーブル（X）の横方向の和\n",
    "adata.obs['counts'] = adata.X.sum(axis=1).A1\n",
    "\n",
    "# 検出遺伝子数\n",
    "adata.obs['n_genes'] = (adata.X > 0.0).astype(int).sum(axis=1).A1\n",
    "\n",
    "# ミトコンドリア遺伝子発現量割合\n",
    "mito_genes = adata.var_names.str.startswith('MT-')\n",
    "adata.obs['percent_mito'] = 100.0 * np.sum(adata[:, mito_genes].X, axis=1).A1\\\n",
    "                            / np.sum(adata.X, axis=1).A1\n",
    "\n",
    "adata.obs"
   ]
  },
  {
   "cell_type": "markdown",
   "metadata": {},
   "source": [
    "これらの関係を可視化してみる。"
   ]
  },
  {
   "cell_type": "code",
   "execution_count": null,
   "metadata": {},
   "outputs": [],
   "source": [
    "p1 = sc.pl.scatter(adata, 'counts', 'n_genes', color='percent_mito', size=40)\n",
    "p2 = sc.pl.scatter(adata[adata.obs['counts']<8000], 'counts', 'n_genes', \n",
    "                   color='percent_mito', size=40)"
   ]
  },
  {
   "cell_type": "markdown",
   "metadata": {},
   "source": [
    "アサインされたリードが少ない細胞（スカスカな細胞）は、全体に占めるミトコンドリア遺伝子の発現量がきわめて高い傾向があることがわかる。このへんは捨てる対象の候補。\n",
    "\n",
    "リードカウントの分布をもう少し詳しく見てみる。"
   ]
  },
  {
   "cell_type": "code",
   "execution_count": null,
   "metadata": {},
   "outputs": [],
   "source": [
    "fig = plt.figure()\n",
    "p3 = sns.displot(adata.obs['counts'], kde=False)\n",
    "p4 = sns.displot(adata.obs['counts'][adata.obs['counts']<4000], kde=False, bins=60)\n",
    "p5 = sns.displot(adata.obs['counts'][adata.obs['counts']>20000], kde=False, bins=60)\n",
    "plt.show()"
   ]
  },
  {
   "cell_type": "markdown",
   "metadata": {},
   "source": [
    "遺伝子検出数、ミトコンドリア遺伝子発現割合についても同様にヒストグラムがかける。これらのデータから、フィルタリングの範囲を決める。"
   ]
  },
  {
   "cell_type": "code",
   "execution_count": null,
   "metadata": {},
   "outputs": [],
   "source": [
    "fig = plt.figure()\n",
    "p6 = sns.displot(adata.obs['n_genes'], kde=False)\n",
    "p7 = sns.displot(adata.obs['n_genes'][adata.obs['n_genes']<1500], kde=False, bins=60)\n",
    "p8 = sns.displot(adata.obs['n_genes'][adata.obs['n_genes']>4000], kde=False, bins=60)\n",
    "plt.show()"
   ]
  },
  {
   "cell_type": "code",
   "execution_count": null,
   "metadata": {},
   "outputs": [],
   "source": [
    "fig = plt.figure()\n",
    "p9 = sns.displot(adata.obs['percent_mito'], kde=False)\n",
    "plt.show()"
   ]
  },
  {
   "cell_type": "markdown",
   "metadata": {},
   "source": [
    "方針を決めたら実際にフィルタリングを実行する。"
   ]
  },
  {
   "cell_type": "code",
   "execution_count": null,
   "metadata": {},
   "outputs": [],
   "source": [
    "print('Total number of cells: {:d}'.format(adata.n_obs))\n",
    "\n",
    "sc.pp.filter_cells(adata, min_counts = 2500)\n",
    "print('Number of cells after min count filter: {:d}'.format(adata.n_obs))\n",
    "\n",
    "sc.pp.filter_cells(adata, max_counts = 25000)\n",
    "print('Number of cells after max count filter: {:d}'.format(adata.n_obs))\n",
    "\n",
    "adata = adata[adata.obs['percent_mito'] < 20]\n",
    "print('Number of cells after MT filter: {:d}'.format(adata.n_obs))\n",
    "\n",
    "sc.pp.filter_cells(adata, min_genes = 1000)\n",
    "print('Number of cells after gene filter: {:d}'.format(adata.n_obs))"
   ]
  },
  {
   "cell_type": "markdown",
   "metadata": {},
   "source": [
    "次に、遺伝子のフィルタリング。\n",
    "\n",
    "あまりに少ない細胞でしか発現していない遺伝子は有用な情報を持たないため捨てる。ここでは20細胞を閾値とする。"
   ]
  },
  {
   "cell_type": "code",
   "execution_count": null,
   "metadata": {},
   "outputs": [],
   "source": [
    "print('Total number of genes: {:d}'.format(adata.n_vars))\n",
    "\n",
    "sc.pp.filter_genes(adata, min_cells=20)\n",
    "print('Number of genes after cell filter: {:d}'.format(adata.n_vars))"
   ]
  },
  {
   "cell_type": "markdown",
   "metadata": {},
   "source": [
    "scRNA-seqにおける重要なアーティファクト、「ダブレット」\n",
    "\n",
    "Scrubletツールを使ってそれぞれの細胞に「ダブレットスコア」（ダブレットの疑わしさの指標）を計算する。"
   ]
  },
  {
   "cell_type": "code",
   "execution_count": null,
   "metadata": {},
   "outputs": [],
   "source": [
    "min_counts = 2\n",
    "min_cells = 3\n",
    "vscore_percentile = 85\n",
    "n_pc = 50\n",
    "\n",
    "# doublet detector parameters:\n",
    "expected_doublet_rate = 0.02 \n",
    "sim_doublet_ratio = 3\n",
    "n_neighbors = 15\n",
    "\n",
    "scrub = scr.Scrublet(counts_matrix = adata.X,  \n",
    "                     n_neighbors = n_neighbors,\n",
    "                     sim_doublet_ratio = sim_doublet_ratio,\n",
    "                     expected_doublet_rate = expected_doublet_rate)\n",
    "\n",
    "doublet_scores, predicted_doublets = scrub.scrub_doublets( \n",
    "                    min_counts = min_counts, \n",
    "                    min_cells = min_cells, \n",
    "                    n_prin_comps = n_pc,\n",
    "                    use_approx_neighbors = True, \n",
    "                    get_doublet_neighbor_parents = False)\n",
    "\n",
    "adata.obs['doublet_score'] = doublet_scores\n",
    "adata.obs['doublet'] = predicted_doublets"
   ]
  },
  {
   "cell_type": "markdown",
   "metadata": {},
   "source": [
    "ダブレットスコアの分布を見てみる。"
   ]
  },
  {
   "cell_type": "code",
   "execution_count": null,
   "metadata": {},
   "outputs": [],
   "source": [
    "sns.displot(adata.obs['doublet_score'], bins=100, kde=False)\n",
    "plt.show()"
   ]
  },
  {
   "cell_type": "markdown",
   "metadata": {},
   "source": [
    "Scrubletが提案する閾値0.13はちょっとゆるい気がするので、ここでは0.05に設定してフィルタリングする。"
   ]
  },
  {
   "cell_type": "code",
   "execution_count": null,
   "metadata": {},
   "outputs": [],
   "source": [
    "thr = 0.05\n",
    "ix_filt = adata.obs['doublet_score']<=thr\n",
    "\n",
    "adata = adata[ix_filt].copy()\n",
    "print('Number of cells after doublet filter: {:d}'.format(adata.n_obs))"
   ]
  },
  {
   "cell_type": "markdown",
   "metadata": {},
   "source": [
    "以上で細胞、遺伝子のフィルタリングが終わった。\n",
    "\n",
    "最終的なテーブルは以下のサイズとなった。"
   ]
  },
  {
   "cell_type": "code",
   "execution_count": null,
   "metadata": {},
   "outputs": [],
   "source": [
    "print(adata.shape)"
   ]
  },
  {
   "cell_type": "markdown",
   "metadata": {},
   "source": [
    "## 正規化（Normalization）"
   ]
  },
  {
   "cell_type": "markdown",
   "metadata": {},
   "source": [
    "ライブラリサイズによる正規化、対数変換などの前処理は、```scanpy.pp```以下にいくつか便利な関数がある。\n",
    "\n",
    "まず、生のカウントデータは上書きしないように別の場所に退避させておく。"
   ]
  },
  {
   "cell_type": "code",
   "execution_count": null,
   "metadata": {},
   "outputs": [],
   "source": [
    "adata.layers['counts'] = adata.X.copy()"
   ]
  },
  {
   "cell_type": "markdown",
   "metadata": {},
   "source": [
    "細胞ごとのカウントで、和が10,000になるように正規化して、対数変換。"
   ]
  },
  {
   "cell_type": "code",
   "execution_count": null,
   "metadata": {},
   "outputs": [],
   "source": [
    "sc.pp.normalize_per_cell(adata, counts_per_cell_after=1e4)\n",
    "sc.pp.log1p(adata)"
   ]
  },
  {
   "cell_type": "markdown",
   "metadata": {},
   "source": [
    "## 特徴量選択（発現量の変動が大きい遺伝子）"
   ]
  },
  {
   "cell_type": "markdown",
   "metadata": {},
   "source": [
    "発現量変動の大きい遺伝子のみを抽出して、データのサイズを小さくする。内部の計算では、平均発現量の値の大きさでいくつか区分けして、それぞれでDispersionを計算しているため、単純に平均と分散で決めるよりも複雑なことをしている。とはいえ、それもひとつの関数で簡単に実行できる。"
   ]
  },
  {
   "cell_type": "code",
   "execution_count": null,
   "metadata": {},
   "outputs": [],
   "source": [
    "sc.pp.highly_variable_genes(adata, flavor='cell_ranger', n_top_genes=2000)\n",
    "print('\\n','Number of highly variable genes: {:d}'.format(np.sum(adata.var['highly_variable'])))"
   ]
  },
  {
   "cell_type": "markdown",
   "metadata": {},
   "source": [
    "抽出された遺伝子を可視化してみる。"
   ]
  },
  {
   "cell_type": "code",
   "execution_count": null,
   "metadata": {},
   "outputs": [],
   "source": [
    "sc.pl.highly_variable_genes(adata)"
   ]
  },
  {
   "cell_type": "markdown",
   "metadata": {},
   "source": [
    "計算結果は自動的に ***adata.var*** 、つまり、遺伝子に関するメタデータを格納したオブジェクトに追加される。 ***highly_variable*** の項目が True の遺伝子が高発現変動遺伝子。"
   ]
  },
  {
   "cell_type": "code",
   "execution_count": null,
   "metadata": {},
   "outputs": [],
   "source": [
    "adata.var"
   ]
  },
  {
   "cell_type": "markdown",
   "metadata": {
    "colab_type": "text",
    "id": "XrYt8PpBx6kD",
    "toc-hr-collapsed": false
   },
   "source": [
    "# 主成分分析（PCA）"
   ]
  },
  {
   "cell_type": "markdown",
   "metadata": {},
   "source": [
    "PCAはscanpyの前処理関数で簡単に実行できる。とりあえず、50次元まで落としてみる。 use_highly_variableのフラグをオンにすると、遺伝子全体ではなく前項で決定した高発現変動遺伝子のみを使って次元削減をする。"
   ]
  },
  {
   "cell_type": "code",
   "execution_count": null,
   "metadata": {},
   "outputs": [],
   "source": [
    "sc.pp.pca(adata, n_comps=50, use_highly_variable=True, svd_solver='arpack')"
   ]
  },
  {
   "cell_type": "markdown",
   "metadata": {},
   "source": [
    "PCAで落とした座標は、観察値のメタデータを格納する ***obsm*** に自動的に入る。"
   ]
  },
  {
   "cell_type": "code",
   "execution_count": null,
   "metadata": {},
   "outputs": [],
   "source": [
    "print(adata.obsm['X_pca'])\n",
    "print(adata.obsm['X_pca'].shape)"
   ]
  },
  {
   "cell_type": "markdown",
   "metadata": {},
   "source": [
    "プロットしてみる。\n",
    "\n",
    "Scanpyでは基本的に「前処理」（Preprocessing）に関わる関数がscanpy.ppに、「プロット」（Plot）に関わる関数がscanpy.plに入っている。\n",
    "\n",
    "pca_overview関数を使うと、勝手に計算済みの主成分座標を使って、PCAの結果をまとめたプロットを描いてくれる。"
   ]
  },
  {
   "cell_type": "code",
   "execution_count": null,
   "metadata": {},
   "outputs": [],
   "source": [
    "fig = plt.figure()\n",
    "p10 = sc.pl.pca_overview(adata, color='counts')\n",
    "plt.show()"
   ]
  },
  {
   "cell_type": "markdown",
   "metadata": {},
   "source": [
    "別の主成分の組み合わせでプロットする場合は、pca関数を使う。"
   ]
  },
  {
   "cell_type": "code",
   "execution_count": null,
   "metadata": {},
   "outputs": [],
   "source": [
    "fig = plt.figure()\n",
    "p10 = sc.pl.pca(adata, color='counts', \n",
    "                components=['1,2', '2,3', '1,3'])\n",
    "plt.show()"
   ]
  },
  {
   "cell_type": "markdown",
   "metadata": {},
   "source": [
    "# 非線形次元削減"
   ]
  },
  {
   "cell_type": "code",
   "execution_count": null,
   "metadata": {},
   "outputs": [],
   "source": [
    "from time import time\n",
    "from mpl_toolkits.mplot3d import Axes3D\n",
    "from matplotlib.ticker import NullFormatter\n",
    "from sklearn import manifold, datasets\n",
    "from sklearn.decomposition import PCA\n",
    "import umap\n",
    "\n",
    "n_points = 1000\n",
    "X, color = datasets.make_s_curve(n_points, random_state=0)\n",
    "n_components = 2\n",
    "\n",
    "fig = plt.figure(figsize=(18, 6))\n",
    "plt.suptitle(f\"Manifold Learning with {n_points} points\", fontsize=14)\n",
    "ax = fig.add_subplot(151, projection='3d')\n",
    "ax.scatter(X[:, 0], X[:, 1], X[:, 2], c=color, cmap=plt.cm.Spectral)\n",
    "ax.view_init(4, -72)\n",
    "\n",
    "def plot2d(model, model_name, index):\n",
    "    t0 = time()\n",
    "    Y = model.fit_transform(X)\n",
    "    t1 = time()\n",
    "    print(f\"{model_name}: {t1-t0:.2g} sec\")\n",
    "    ax = fig.add_subplot(1, 5, index)\n",
    "    plt.scatter(Y[:, 0], Y[:, 1], c=color, cmap=plt.cm.Spectral)\n",
    "    plt.title(f\"{model_name} ({t1-t0:.2g} sec)\")\n",
    "    ax.xaxis.set_major_formatter(NullFormatter())\n",
    "    ax.yaxis.set_major_formatter(NullFormatter())\n",
    "    plt.axis('tight')\n",
    "\n",
    "model = PCA(n_components=2)\n",
    "plot2d(model, 'PCA', 2)\n",
    "\n",
    "model = manifold.MDS(n_components=2, max_iter=100, n_init=1)\n",
    "plot2d(model, 'MDS', 3)\n",
    "\n",
    "model = manifold.TSNE(n_components=2, \n",
    "                      init='pca', perplexity=50, random_state=0)\n",
    "plot2d(model, 't-SNE', 4)\n",
    "\n",
    "model = umap.UMAP(n_components=2, \n",
    "                  n_neighbors=30, min_dist=0.3, random_state=0)\n",
    "plot2d(model, 'UMAP', 5)\n",
    "\n",
    "plt.show()"
   ]
  },
  {
   "cell_type": "markdown",
   "metadata": {},
   "source": [
    "## t分布型確率的近傍埋め込み（t-SNE）"
   ]
  },
  {
   "cell_type": "markdown",
   "metadata": {},
   "source": [
    "まず、t-SNE, UMAP共通のステップとして、データから「近傍グラフ」（neighborhood graph）の構築が必要。\n",
    "\n"
   ]
  },
  {
   "cell_type": "code",
   "execution_count": null,
   "metadata": {},
   "outputs": [],
   "source": [
    "sc.pp.neighbors(adata)"
   ]
  },
  {
   "cell_type": "markdown",
   "metadata": {},
   "source": [
    "データ点間の接続関係（細胞の近傍関係）は、全細胞vs.全細胞のペアの情報を記録する ***obsp*** に格納される。"
   ]
  },
  {
   "cell_type": "code",
   "execution_count": null,
   "metadata": {},
   "outputs": [],
   "source": [
    "adata.obsp['connectivities']"
   ]
  },
  {
   "cell_type": "markdown",
   "metadata": {},
   "source": [
    "t-SNEの実行。\n",
    "\n",
    "データに適用するさまざまな手法（tool）は、scanpy.tlに揃っている。"
   ]
  },
  {
   "cell_type": "code",
   "execution_count": null,
   "metadata": {},
   "outputs": [],
   "source": [
    "sc.tl.tsne(adata) "
   ]
  },
  {
   "cell_type": "code",
   "execution_count": null,
   "metadata": {},
   "outputs": [],
   "source": [
    "fig = plt.figure()\n",
    "p10 = sc.pl.tsne(adata, color='counts')\n",
    "plt.show()"
   ]
  },
  {
   "cell_type": "markdown",
   "metadata": {},
   "source": [
    "パープレキシティはデフォルトで \"30\" に設定されている。\n",
    "\n",
    "パープレキシティを \"5\" に変更して実行してみる。"
   ]
  },
  {
   "cell_type": "code",
   "execution_count": null,
   "metadata": {},
   "outputs": [],
   "source": [
    "sc.tl.tsne(adata, perplexity=5) \n",
    "\n",
    "fig = plt.figure()\n",
    "p10 = sc.pl.tsne(adata, color='counts')\n",
    "plt.show()"
   ]
  },
  {
   "cell_type": "markdown",
   "metadata": {},
   "source": [
    "つぎに、パープレキシティを \"500\" に設定してみる。"
   ]
  },
  {
   "cell_type": "code",
   "execution_count": null,
   "metadata": {},
   "outputs": [],
   "source": [
    "sc.tl.tsne(adata, perplexity=500) \n",
    "\n",
    "fig = plt.figure()\n",
    "p10 = sc.pl.tsne(adata, color='counts')\n",
    "plt.show()"
   ]
  },
  {
   "cell_type": "markdown",
   "metadata": {},
   "source": [
    "## UMAP"
   ]
  },
  {
   "cell_type": "markdown",
   "metadata": {},
   "source": [
    "近傍グラフはすでに計算しているので、scanpy.tlのumap関数を使えばオーケー。"
   ]
  },
  {
   "cell_type": "code",
   "execution_count": null,
   "metadata": {},
   "outputs": [],
   "source": [
    "sc.tl.umap(adata) "
   ]
  },
  {
   "cell_type": "markdown",
   "metadata": {},
   "source": [
    "プロットはt-SNEとほとんど同じ。scanpy.pl以下にumap用の描画関数がある。"
   ]
  },
  {
   "cell_type": "code",
   "execution_count": null,
   "metadata": {},
   "outputs": [],
   "source": [
    "fig = plt.figure()\n",
    "p10 = sc.pl.umap(adata, color='counts')\n",
    "plt.show()"
   ]
  },
  {
   "cell_type": "markdown",
   "metadata": {},
   "source": [
    "ここでもパラメータを色々変えて結果を比較してみよう。\n",
    "\n",
    "重要なパラメータは2つ: n_neighbors, min_dist\n",
    "\n",
    "n_neighborsに関しては、scanpy.pp.neighborsで近傍グラフを構築したときにすでに設定している。デフォルトでは n_neighbors=15 となっている。\n",
    "\n",
    "そこでここでは、min_distによる変化を見てみよう。\n",
    "\n",
    "デフォルトではmin_dist=0.5なので、0.1と1.0に変化させて計算してみる。"
   ]
  },
  {
   "cell_type": "code",
   "execution_count": null,
   "metadata": {
    "colab": {
     "base_uri": "https://localhost:8080/",
     "height": 547
    },
    "colab_type": "code",
    "id": "l0Anx09-x6lk",
    "outputId": "b0a6d7e3-5e49-429e-e0f7-5b57da0136cf"
   },
   "outputs": [],
   "source": [
    "adata_md01 = sc.tl.umap(adata, min_dist=0.1, copy=True)\n",
    "adata_md10= sc.tl.umap(adata, min_dist=1.0, copy=True)"
   ]
  },
  {
   "cell_type": "code",
   "execution_count": null,
   "metadata": {},
   "outputs": [],
   "source": [
    "rcParams['figure.figsize']=(40,10)\n",
    "\n",
    "fig_ind=np.arange(131, 134)\n",
    "fig = plt.figure()\n",
    "fig.subplots_adjust(hspace=0.4, wspace=0.2)\n",
    "\n",
    "p12 = sc.pl.umap(adata_md01, color='counts', ax=fig.add_subplot(fig_ind[0]), show=False)\n",
    "p12 = sc.pl.umap(adata, color='counts', ax=fig.add_subplot(fig_ind[1]), show=False)\n",
    "p12 = sc.pl.umap(adata_md10, color='counts', ax=fig.add_subplot(fig_ind[2]), show=False)\n",
    "\n",
    "plt.show()"
   ]
  },
  {
   "cell_type": "markdown",
   "metadata": {
    "colab_type": "text",
    "id": "z3VhqfUDx6l-",
    "toc-hr-collapsed": false
   },
   "source": [
    "# クラスタリング"
   ]
  },
  {
   "cell_type": "markdown",
   "metadata": {},
   "source": [
    "Leidenクラスタリングを実行してみる。\n",
    "\n",
    "モジュラリティの計算に影響を与える \"resolution\" パラメータが存在する。\n",
    "\n",
    "いくつかの値で結果を比較してみる。"
   ]
  },
  {
   "cell_type": "code",
   "execution_count": null,
   "metadata": {},
   "outputs": [],
   "source": [
    "sc.tl.leiden(adata, resolution=1.5, key_added='leiden_r1.5')\n",
    "sc.tl.leiden(adata, resolution=1.0, key_added='leiden_r1.0')\n",
    "sc.tl.leiden(adata, resolution=0.5, key_added='leiden_r0.5')"
   ]
  },
  {
   "cell_type": "markdown",
   "metadata": {},
   "source": [
    "それぞれのクラスタリング結果は観測値の \"obs\" に格納された。"
   ]
  },
  {
   "cell_type": "code",
   "execution_count": null,
   "metadata": {},
   "outputs": [],
   "source": [
    "adata.obs"
   ]
  },
  {
   "cell_type": "markdown",
   "metadata": {},
   "source": [
    "それぞれによってクラスタリング結果がどのように異なるのかプロットしてみる。\n",
    "\n",
    "プロットする点の座標じたいはUMAPの結果なので、プロットはUMAP版の関数を使い、色分けだけをクラスタリング結果で指定すればいい。"
   ]
  },
  {
   "cell_type": "code",
   "execution_count": null,
   "metadata": {},
   "outputs": [],
   "source": [
    "rcParams['figure.figsize']=(40,10)\n",
    "\n",
    "fig_ind=np.arange(131, 134)\n",
    "fig = plt.figure()\n",
    "fig.subplots_adjust(hspace=0.4, wspace=0.2)\n",
    "\n",
    "p12 = sc.pl.umap(adata, color='leiden_r1.5', ax=fig.add_subplot(fig_ind[0]), show=False)\n",
    "p12 = sc.pl.umap(adata, color='leiden_r1.0', ax=fig.add_subplot(fig_ind[1]), show=False)\n",
    "p12 = sc.pl.umap(adata, color='leiden_r0.5', ax=fig.add_subplot(fig_ind[2]), show=False)\n",
    "\n",
    "plt.show()"
   ]
  },
  {
   "cell_type": "code",
   "execution_count": null,
   "metadata": {},
   "outputs": [],
   "source": []
  }
 ],
 "metadata": {
  "colab": {
   "collapsed_sections": [],
   "name": "scRNAseq_handson_colab.ipynb",
   "provenance": [],
   "toc_visible": true
  },
  "kernelspec": {
   "display_name": "Python 3 (ipykernel)",
   "language": "python",
   "name": "python3"
  },
  "language_info": {
   "codemirror_mode": {
    "name": "ipython",
    "version": 3
   },
   "file_extension": ".py",
   "mimetype": "text/x-python",
   "name": "python",
   "nbconvert_exporter": "python",
   "pygments_lexer": "ipython3",
   "version": "3.7.10"
  },
  "toc": {
   "toc_cell": false,
   "toc_number_sections": true,
   "toc_threshold": 6,
   "toc_window_display": false
  },
  "toc-autonumbering": true,
  "toc-showcode": false,
  "toc-showmarkdowntxt": false
 },
 "nbformat": 4,
 "nbformat_minor": 4
}
